{
  "nbformat": 4,
  "nbformat_minor": 0,
  "metadata": {
    "colab": {
      "name": "CrawlRedditDatausingPushshiftAPI.ipynb",
      "provenance": [],
      "collapsed_sections": []
    },
    "kernelspec": {
      "name": "python3",
      "display_name": "Python 3"
    }
  },
  "cells": [
    {
      "cell_type": "code",
      "metadata": {
        "id": "QZPCCaI76_vF",
        "outputId": "9d86da49-4a17-4569-8c50-946623b8c63f",
        "colab": {
          "base_uri": "https://localhost:8080/",
          "height": 87
        }
      },
      "source": [
        "#Download and import all dependancies\n",
        "!pip install datetime\n",
        "import requests\n",
        "from datetime import datetime as dt, timezone\n",
        "from google.colab import drive\n",
        "import traceback\n",
        "import time\n",
        "import json \n",
        "import csv "
      ],
      "execution_count": null,
      "outputs": [
        {
          "output_type": "stream",
          "text": [
            "Requirement already satisfied: datetime in /usr/local/lib/python3.6/dist-packages (4.3)\n",
            "Requirement already satisfied: pytz in /usr/local/lib/python3.6/dist-packages (from datetime) (2018.9)\n",
            "Requirement already satisfied: zope.interface in /usr/local/lib/python3.6/dist-packages (from datetime) (5.1.2)\n",
            "Requirement already satisfied: setuptools in /usr/local/lib/python3.6/dist-packages (from zope.interface->datetime) (50.3.0)\n"
          ],
          "name": "stdout"
        }
      ]
    },
    {
      "cell_type": "code",
      "metadata": {
        "id": "zqslhC-F7IGl",
        "outputId": "09dea9cd-bd50-4222-eccc-48a6212d96fc",
        "colab": {
          "base_uri": "https://localhost:8080/",
          "height": 34
        }
      },
      "source": [
        "#Mount Google drive, provide auth code to write/read from G drive\n",
        "drive.mount(\"/drive\")"
      ],
      "execution_count": null,
      "outputs": [
        {
          "output_type": "stream",
          "text": [
            "Drive already mounted at /drive; to attempt to forcibly remount, call drive.mount(\"/drive\", force_remount=True).\n"
          ],
          "name": "stdout"
        }
      ]
    },
    {
      "cell_type": "code",
      "metadata": {
        "id": "8lhMHGVM7eAU"
      },
      "source": [
        "# Formatted pushshiftUrl \n",
        "pushshiftApiUrl = \"https://api.pushshift.io/reddit/submission/search/?after={}&subreddit={}&size=100&sort_type=created_utc&sort=asc&fields=author,author_fullname,created_utc,domain,full_link,is_crosspostable,link_flair_text,num_comments,num_crossposts,over_18,permalink,score,selftext,title,total_awards_received\""
      ],
      "execution_count": null,
      "outputs": []
    },
    {
      "cell_type": "code",
      "metadata": {
        "id": "nQYCSDoU-JT5"
      },
      "source": [
        "def downloadFromUrl(filename,subredditname):\n",
        "\tcount = 0\n",
        "\theadcount =0\n",
        "\tfileop = open(filename, 'w') #overwrite existing file or create file with name <filename>\n",
        "\tcsv_writer = csv.writer(fileop)\n",
        "\tprevious_epoch = startDateTimestamp\n",
        "\theaders = [\"author\",\"author_fullname\",\"created_utc\",\"domain\",\"full_link\",\"is_crosspostable\",\"link_flair_text\",\"num_comments\",\"num_crossposts\",\"over_18\",\"permalink\",\"score\",\"selftext\",\"title\",\"total_awards_received\"]\n",
        "    \n",
        "\twhile previous_epoch < endDateTimestamp:\n",
        "\t\tnew_url = pushshiftApiUrl.format(previous_epoch,subredditname)\n",
        "\t\tprint(\"Hitting :  \", new_url)\n",
        "        \n",
        "\t\tjson = requests.get(new_url, headers={'User-Agent': \"Bot downloader\"})\n",
        "\t\ttime.sleep(2) # pushshift has a SLA rate limit, if we send requests too fast it will start returning error messages\n",
        "\t\tjson_data = json.json()\n",
        "\t\tif 'data' not in json_data:\n",
        "\t\t\tbreak\n",
        "    \n",
        "\t\tobjects = json_data['data']\n",
        "\t\tif len(objects) == 0:\n",
        "\t\t\tbreak\n",
        "\t\t#print(objects)\n",
        "\t\t\n",
        "\t\tfor object in objects:\n",
        "\t\t\tprevious_epoch = object['created_utc'] - 1 #for next epoch. since we are getting data in asending order we'll get next set of values using this time-stamp\n",
        "\t\t\t#print(\"previous_epoch \",previous_epoch)\n",
        "\t\t\tcount += 1\n",
        "\t\t\t\n",
        "\t\t\tobject['created_utc']=dt.utcfromtimestamp(object['created_utc']).strftime(\"%Y-%m-%d\") #covert date to human readable format\n",
        "\t\t\t\n",
        "\t\t\t#print(object.keys())\n",
        "\t\t\tnew_obj ={} #to write values in csv in right order\n",
        "\t\t\tfor header in headers:\n",
        "\t\t\t    if header in object.keys():\n",
        "\t\t\t        new_obj[header]=object[header]\n",
        "\t\t\t    else:\n",
        "\t\t\t        new_obj[header]=\"NA\"\n",
        "\t\t\t\n",
        "\t\t\t#print(new_obj)\n",
        "\t\t\tif headcount == 0:\n",
        "\t\t\t    csv_writer.writerow(headers)\n",
        "\t\t\t    headcount+=1 #write headers only once\n",
        "\t\t\tcsv_writer.writerow(new_obj.values())\n",
        "\t\t\t\n",
        "\n",
        "\t\tprint(\"Saved {} record(s) till date {}\".format(count, dt.utcfromtimestamp(previous_epoch).strftime(\"%Y-%m-%d\")))\n",
        "\n",
        "\tfileop.close()"
      ],
      "execution_count": null,
      "outputs": []
    },
    {
      "cell_type": "code",
      "metadata": {
        "id": "cCLDYkSqX7yW",
        "outputId": "ce499e18-f97b-42bd-b411-f952eae67d69",
        "colab": {
          "base_uri": "https://localhost:8080/",
          "height": 570
        }
      },
      "source": [
        "startDate = dt(2019, 12, 31)\n",
        "startDateTimestamp = int(startDate.replace(tzinfo=timezone.utc).timestamp())\n",
        "endDate = dt(2020, 4, 1)\n",
        "endDateTimestamp = int(endDate.replace(tzinfo=timezone.utc).timestamp())\n",
        "print(\"startDateTimestamp \",startDateTimestamp)\n",
        "print(\"endDateTimestamp \",endDateTimestamp)\n",
        "\n",
        "subredditname = \"emacs\"\n",
        "downloadFromUrl(\"/drive/My Drive/Colab Notebooks/{}.{}\".format(subredditname+\"_raw\", \"csv\"),subredditname)"
      ],
      "execution_count": null,
      "outputs": [
        {
          "output_type": "stream",
          "text": [
            "startDateTimestamp  1577750400\n",
            "endDateTimestamp  1585699200\n",
            "Hitting :   https://api.pushshift.io/reddit/submission/search/?after=1577750400&subreddit=emacs&size=100&sort_type=created_utc&sort=asc&fields=author,author_fullname,created_utc,domain,full_link,is_crosspostable,link_flair_text,num_comments,num_crossposts,over_18,permalink,score,selftext,title,total_awards_received\n",
            "Saved 100 record(s) till date 2020-01-06\n",
            "Hitting :   https://api.pushshift.io/reddit/submission/search/?after=1578326916&subreddit=emacs&size=100&sort_type=created_utc&sort=asc&fields=author,author_fullname,created_utc,domain,full_link,is_crosspostable,link_flair_text,num_comments,num_crossposts,over_18,permalink,score,selftext,title,total_awards_received\n",
            "Saved 200 record(s) till date 2020-01-12\n",
            "Hitting :   https://api.pushshift.io/reddit/submission/search/?after=1578864994&subreddit=emacs&size=100&sort_type=created_utc&sort=asc&fields=author,author_fullname,created_utc,domain,full_link,is_crosspostable,link_flair_text,num_comments,num_crossposts,over_18,permalink,score,selftext,title,total_awards_received\n",
            "Saved 300 record(s) till date 2020-01-19\n",
            "Hitting :   https://api.pushshift.io/reddit/submission/search/?after=1579430445&subreddit=emacs&size=100&sort_type=created_utc&sort=asc&fields=author,author_fullname,created_utc,domain,full_link,is_crosspostable,link_flair_text,num_comments,num_crossposts,over_18,permalink,score,selftext,title,total_awards_received\n",
            "Saved 400 record(s) till date 2020-01-24\n",
            "Hitting :   https://api.pushshift.io/reddit/submission/search/?after=1579908612&subreddit=emacs&size=100&sort_type=created_utc&sort=asc&fields=author,author_fullname,created_utc,domain,full_link,is_crosspostable,link_flair_text,num_comments,num_crossposts,over_18,permalink,score,selftext,title,total_awards_received\n",
            "Saved 500 record(s) till date 2020-01-30\n",
            "Hitting :   https://api.pushshift.io/reddit/submission/search/?after=1580413128&subreddit=emacs&size=100&sort_type=created_utc&sort=asc&fields=author,author_fullname,created_utc,domain,full_link,is_crosspostable,link_flair_text,num_comments,num_crossposts,over_18,permalink,score,selftext,title,total_awards_received\n",
            "Saved 600 record(s) till date 2020-02-06\n",
            "Hitting :   https://api.pushshift.io/reddit/submission/search/?after=1581009240&subreddit=emacs&size=100&sort_type=created_utc&sort=asc&fields=author,author_fullname,created_utc,domain,full_link,is_crosspostable,link_flair_text,num_comments,num_crossposts,over_18,permalink,score,selftext,title,total_awards_received\n",
            "Saved 700 record(s) till date 2020-02-14\n",
            "Hitting :   https://api.pushshift.io/reddit/submission/search/?after=1581650323&subreddit=emacs&size=100&sort_type=created_utc&sort=asc&fields=author,author_fullname,created_utc,domain,full_link,is_crosspostable,link_flair_text,num_comments,num_crossposts,over_18,permalink,score,selftext,title,total_awards_received\n",
            "Saved 800 record(s) till date 2020-02-20\n",
            "Hitting :   https://api.pushshift.io/reddit/submission/search/?after=1582222419&subreddit=emacs&size=100&sort_type=created_utc&sort=asc&fields=author,author_fullname,created_utc,domain,full_link,is_crosspostable,link_flair_text,num_comments,num_crossposts,over_18,permalink,score,selftext,title,total_awards_received\n",
            "Saved 900 record(s) till date 2020-02-27\n",
            "Hitting :   https://api.pushshift.io/reddit/submission/search/?after=1582831020&subreddit=emacs&size=100&sort_type=created_utc&sort=asc&fields=author,author_fullname,created_utc,domain,full_link,is_crosspostable,link_flair_text,num_comments,num_crossposts,over_18,permalink,score,selftext,title,total_awards_received\n",
            "Saved 1000 record(s) till date 2020-03-05\n",
            "Hitting :   https://api.pushshift.io/reddit/submission/search/?after=1583423293&subreddit=emacs&size=100&sort_type=created_utc&sort=asc&fields=author,author_fullname,created_utc,domain,full_link,is_crosspostable,link_flair_text,num_comments,num_crossposts,over_18,permalink,score,selftext,title,total_awards_received\n",
            "Saved 1100 record(s) till date 2020-03-12\n",
            "Hitting :   https://api.pushshift.io/reddit/submission/search/?after=1584049198&subreddit=emacs&size=100&sort_type=created_utc&sort=asc&fields=author,author_fullname,created_utc,domain,full_link,is_crosspostable,link_flair_text,num_comments,num_crossposts,over_18,permalink,score,selftext,title,total_awards_received\n",
            "Saved 1200 record(s) till date 2020-03-19\n",
            "Hitting :   https://api.pushshift.io/reddit/submission/search/?after=1584653304&subreddit=emacs&size=100&sort_type=created_utc&sort=asc&fields=author,author_fullname,created_utc,domain,full_link,is_crosspostable,link_flair_text,num_comments,num_crossposts,over_18,permalink,score,selftext,title,total_awards_received\n",
            "Saved 1300 record(s) till date 2020-03-26\n",
            "Hitting :   https://api.pushshift.io/reddit/submission/search/?after=1585228796&subreddit=emacs&size=100&sort_type=created_utc&sort=asc&fields=author,author_fullname,created_utc,domain,full_link,is_crosspostable,link_flair_text,num_comments,num_crossposts,over_18,permalink,score,selftext,title,total_awards_received\n",
            "Saved 1400 record(s) till date 2020-04-02\n"
          ],
          "name": "stdout"
        }
      ]
    },
    {
      "cell_type": "code",
      "metadata": {
        "id": "jEMUiFis5yNu"
      },
      "source": [
        ""
      ],
      "execution_count": null,
      "outputs": []
    }
  ]
}