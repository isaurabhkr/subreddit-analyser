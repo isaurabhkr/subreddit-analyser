{
  "nbformat": 4,
  "nbformat_minor": 0,
  "metadata": {
    "colab": {
      "name": "featureExtraction.ipynb",
      "provenance": [],
      "collapsed_sections": []
    },
    "kernelspec": {
      "name": "python3",
      "display_name": "Python 3"
    }
  },
  "cells": [
    {
      "cell_type": "markdown",
      "metadata": {
        "id": "d26ygHwK95VU"
      },
      "source": [
        "Python Notebook to analyse the crawled subreddit data and prepare a CSV for further analysis. </br>\n",
        "It takes the raw CSV data crawled from Subreddit, calculates the required features and export a filtered clean CSV with the feature vectors."
      ]
    },
    {
      "cell_type": "code",
      "metadata": {
        "id": "s3a6wUiGEMsD",
        "outputId": "19c1cfee-6159-43a1-ae3d-41c87bc50b54",
        "colab": {
          "base_uri": "https://localhost:8080/",
          "height": 183
        }
      },
      "source": [
        "#Download and import all dependancies\n",
        "!pip install twython #for collab to download the twython lib used by SIA\n",
        "from google.colab import drive #to mount G drive\n",
        "import nltk\n",
        "from nltk.sentiment.vader import SentimentIntensityAnalyzer as SIA\n",
        "import pandas as pd\n",
        "import warnings"
      ],
      "execution_count": null,
      "outputs": [
        {
          "output_type": "stream",
          "text": [
            "Requirement already satisfied: twython in /usr/local/lib/python3.6/dist-packages (3.8.2)\n",
            "Requirement already satisfied: requests-oauthlib>=0.4.0 in /usr/local/lib/python3.6/dist-packages (from twython) (1.3.0)\n",
            "Requirement already satisfied: requests>=2.1.0 in /usr/local/lib/python3.6/dist-packages (from twython) (2.23.0)\n",
            "Requirement already satisfied: oauthlib>=3.0.0 in /usr/local/lib/python3.6/dist-packages (from requests-oauthlib>=0.4.0->twython) (3.1.0)\n",
            "Requirement already satisfied: chardet<4,>=3.0.2 in /usr/local/lib/python3.6/dist-packages (from requests>=2.1.0->twython) (3.0.4)\n",
            "Requirement already satisfied: urllib3!=1.25.0,!=1.25.1,<1.26,>=1.21.1 in /usr/local/lib/python3.6/dist-packages (from requests>=2.1.0->twython) (1.24.3)\n",
            "Requirement already satisfied: idna<3,>=2.5 in /usr/local/lib/python3.6/dist-packages (from requests>=2.1.0->twython) (2.10)\n",
            "Requirement already satisfied: certifi>=2017.4.17 in /usr/local/lib/python3.6/dist-packages (from requests>=2.1.0->twython) (2020.6.20)\n"
          ],
          "name": "stdout"
        }
      ]
    },
    {
      "cell_type": "code",
      "metadata": {
        "id": "EL2Da6fzKA-F",
        "outputId": "6934c76c-a832-4486-c042-90605664e80d",
        "colab": {
          "base_uri": "https://localhost:8080/",
          "height": 72
        }
      },
      "source": [
        "#Mount Google drive, provide auth code to write/read from G drive\n",
        "drive.mount(\"/drive\")\n",
        "warnings.filterwarnings('ignore')\n",
        "\n",
        "#VADER (Valence Aware Dictionary and sEntiment Reasoner) is a lexicon and rule-based sentiment analysis tool that is specifically attuned to sentiments expressed in social media. \n",
        "nltk.download('vader_lexicon')"
      ],
      "execution_count": null,
      "outputs": [
        {
          "output_type": "stream",
          "text": [
            "Mounted at /drive\n",
            "[nltk_data] Downloading package vader_lexicon to /root/nltk_data...\n"
          ],
          "name": "stdout"
        },
        {
          "output_type": "execute_result",
          "data": {
            "text/plain": [
              "True"
            ]
          },
          "metadata": {
            "tags": []
          },
          "execution_count": 4
        }
      ]
    },
    {
      "cell_type": "code",
      "metadata": {
        "id": "nDlxw4PEEm9d",
        "outputId": "308c53cb-9214-4a71-8ccc-973f8e9281ea",
        "colab": {
          "base_uri": "https://localhost:8080/",
          "height": 652
        }
      },
      "source": [
        "raw_data = pd.read_csv(\"/drive/My Drive/Colab Notebooks/emacs_raw.csv\") \n",
        "raw_data.loc[raw_data['selftext'].isnull(), 'selftext'] = \" \"\n",
        "print(\"raw_data : \",raw_data.shape)\n",
        "\n",
        "#filtered_data = raw_data[raw_data['selftext'].notnull()] #Keeping the posts with null 'content', will use title of the post for analysis!\n",
        "filtered_data = raw_data.loc[raw_data['selftext'] != \"[removed]\"] #filtering the removed or deleted posts\n",
        "\n",
        "print(\"filtered_data : \",filtered_data.shape)\n",
        "filtered_data.head()"
      ],
      "execution_count": null,
      "outputs": [
        {
          "output_type": "stream",
          "text": [
            "raw_data :  (1353, 15)\n",
            "filtered_data :  (1255, 15)\n"
          ],
          "name": "stdout"
        },
        {
          "output_type": "execute_result",
          "data": {
            "text/html": [
              "<div>\n",
              "<style scoped>\n",
              "    .dataframe tbody tr th:only-of-type {\n",
              "        vertical-align: middle;\n",
              "    }\n",
              "\n",
              "    .dataframe tbody tr th {\n",
              "        vertical-align: top;\n",
              "    }\n",
              "\n",
              "    .dataframe thead th {\n",
              "        text-align: right;\n",
              "    }\n",
              "</style>\n",
              "<table border=\"1\" class=\"dataframe\">\n",
              "  <thead>\n",
              "    <tr style=\"text-align: right;\">\n",
              "      <th></th>\n",
              "      <th>author</th>\n",
              "      <th>author_fullname</th>\n",
              "      <th>created_utc</th>\n",
              "      <th>domain</th>\n",
              "      <th>full_link</th>\n",
              "      <th>is_crosspostable</th>\n",
              "      <th>link_flair_text</th>\n",
              "      <th>num_comments</th>\n",
              "      <th>num_crossposts</th>\n",
              "      <th>over_18</th>\n",
              "      <th>permalink</th>\n",
              "      <th>score</th>\n",
              "      <th>selftext</th>\n",
              "      <th>title</th>\n",
              "      <th>total_awards_received</th>\n",
              "    </tr>\n",
              "  </thead>\n",
              "  <tbody>\n",
              "    <tr>\n",
              "      <th>0</th>\n",
              "      <td>w3_ar3_l3g10n</td>\n",
              "      <td>t2_42lfkqcf</td>\n",
              "      <td>01-01-2020</td>\n",
              "      <td>self.emacs</td>\n",
              "      <td>https://www.reddit.com/r/emacs/comments/eid5nw...</td>\n",
              "      <td>True</td>\n",
              "      <td>NaN</td>\n",
              "      <td>7</td>\n",
              "      <td>0</td>\n",
              "      <td>False</td>\n",
              "      <td>/r/emacs/comments/eid5nw/thoughts_on_a_clients...</td>\n",
              "      <td>1</td>\n",
              "      <td>I’ve spent the day trying to configure emacs-s...</td>\n",
              "      <td>Thoughts on a client-server editor model like ...</td>\n",
              "      <td>0</td>\n",
              "    </tr>\n",
              "    <tr>\n",
              "      <th>1</th>\n",
              "      <td>github-alphapapa</td>\n",
              "      <td>t2_17be1v66</td>\n",
              "      <td>01-01-2020</td>\n",
              "      <td>github.com</td>\n",
              "      <td>https://www.reddit.com/r/emacs/comments/eidj07...</td>\n",
              "      <td>True</td>\n",
              "      <td>NaN</td>\n",
              "      <td>1</td>\n",
              "      <td>0</td>\n",
              "      <td>False</td>\n",
              "      <td>/r/emacs/comments/eidj07/makemsh_makefilelike_...</td>\n",
              "      <td>1</td>\n",
              "      <td></td>\n",
              "      <td>makem.sh: Makefile-like script for easily test...</td>\n",
              "      <td>0</td>\n",
              "    </tr>\n",
              "    <tr>\n",
              "      <th>4</th>\n",
              "      <td>rock-emacs</td>\n",
              "      <td>t2_3bc1xzt6</td>\n",
              "      <td>01-01-2020</td>\n",
              "      <td>self.emacs</td>\n",
              "      <td>https://www.reddit.com/r/emacs/comments/eifdhf...</td>\n",
              "      <td>True</td>\n",
              "      <td>NaN</td>\n",
              "      <td>7</td>\n",
              "      <td>0</td>\n",
              "      <td>False</td>\n",
              "      <td>/r/emacs/comments/eifdhf/changing_the_behavior...</td>\n",
              "      <td>1</td>\n",
              "      <td>Perhaps the only thing I miss about Vim is how...</td>\n",
              "      <td>Changing the behavior of RET in Emacs to be li...</td>\n",
              "      <td>0</td>\n",
              "    </tr>\n",
              "    <tr>\n",
              "      <th>5</th>\n",
              "      <td>_priyadarshan</td>\n",
              "      <td>t2_1cqjsfrj</td>\n",
              "      <td>01-01-2020</td>\n",
              "      <td>self.emacs</td>\n",
              "      <td>https://www.reddit.com/r/emacs/comments/eigot5...</td>\n",
              "      <td>True</td>\n",
              "      <td>NaN</td>\n",
              "      <td>6</td>\n",
              "      <td>0</td>\n",
              "      <td>False</td>\n",
              "      <td>/r/emacs/comments/eigot5/running_notmuch_on_wi...</td>\n",
              "      <td>1</td>\n",
              "      <td>Currently `notmuch` is not available on Window...</td>\n",
              "      <td>Running notmuch on Windows Emacs</td>\n",
              "      <td>0</td>\n",
              "    </tr>\n",
              "    <tr>\n",
              "      <th>6</th>\n",
              "      <td>karlicoss</td>\n",
              "      <td>t2_8h0l2</td>\n",
              "      <td>01-01-2020</td>\n",
              "      <td>self.orgmode</td>\n",
              "      <td>https://www.reddit.com/r/emacs/comments/eihvrq...</td>\n",
              "      <td>True</td>\n",
              "      <td>NaN</td>\n",
              "      <td>2</td>\n",
              "      <td>0</td>\n",
              "      <td>False</td>\n",
              "      <td>/r/emacs/comments/eihvrq/orgsync_synchronize_y...</td>\n",
              "      <td>1</td>\n",
              "      <td></td>\n",
              "      <td>org-sync: synchronize your github/gitlab issue...</td>\n",
              "      <td>0</td>\n",
              "    </tr>\n",
              "  </tbody>\n",
              "</table>\n",
              "</div>"
            ],
            "text/plain": [
              "             author  ... total_awards_received\n",
              "0     w3_ar3_l3g10n  ...                     0\n",
              "1  github-alphapapa  ...                     0\n",
              "4        rock-emacs  ...                     0\n",
              "5     _priyadarshan  ...                     0\n",
              "6         karlicoss  ...                     0\n",
              "\n",
              "[5 rows x 15 columns]"
            ]
          },
          "metadata": {
            "tags": []
          },
          "execution_count": 5
        }
      ]
    },
    {
      "cell_type": "code",
      "metadata": {
        "id": "CkPbCoJQE49Z",
        "outputId": "adb2ad8f-42ba-4f7d-bd4a-e422ce548ae9",
        "colab": {
          "base_uri": "https://localhost:8080/",
          "height": 215
        }
      },
      "source": [
        "#Calculate sentiment of the title and post.\n",
        "sia = SIA()\n",
        "post_sentiment_results = []\n",
        "posts = filtered_data['selftext'].tolist()\n",
        "\n",
        "for post in posts:\n",
        "    pol_score = sia.polarity_scores(post)\n",
        "    pol_score['post'] = post\n",
        "    post_sentiment_results.append(pol_score)\n",
        "\n",
        "df = pd.DataFrame.from_records(post_sentiment_results)\n",
        "\n",
        "df['post_sentiment'] = \"Neutral\"\n",
        "df.loc[df['compound'] > 0.2, 'post_sentiment'] = \"Positive\"\n",
        "df.loc[df['compound'] < -0.2, 'post_sentiment'] = \"Negative\"\n",
        "#print(df.head())\n",
        "\n",
        "title_sentiment_results =[]\n",
        "titles = filtered_data['title'].tolist()\n",
        "for title in titles:\n",
        "    pol_score = sia.polarity_scores(title)\n",
        "    pol_score['title'] = title\n",
        "    title_sentiment_results.append(pol_score)\n",
        "\n",
        "df2 = pd.DataFrame.from_records(title_sentiment_results)\n",
        "df2['title_sentiment'] = \"Neutral\"\n",
        "df2.loc[df2['compound'] > 0.2, 'title_sentiment'] = \"Positive\"\n",
        "df2.loc[df2['compound'] < -0.2, 'title_sentiment'] = \"Negative\"\n",
        "#print(df2.head())\n",
        "\n",
        "\n",
        "#Define the final feature dataframe with the required features for further analysis\n",
        "feature_df = df[['post', 'post_sentiment']]\n",
        "feature_df[['title', 'title_sentiment']] = df2[['title', 'title_sentiment']].to_numpy()\n",
        "feature_df['reddit_score'] = filtered_data['score'].values\n",
        "feature_df['num_comments'] = filtered_data['num_comments'].values\n",
        "feature_df['date_created'] = filtered_data['created_utc'].values\n",
        "feature_df['author'] = filtered_data['author'].values\n",
        "\n",
        "feature_df = feature_df.reindex(columns=['post','title','date_created','author','post_sentiment','title_sentiment','reddit_score','num_comments'])\n",
        "print(feature_df.shape)\n",
        "feature_df.head()"
      ],
      "execution_count": null,
      "outputs": [
        {
          "output_type": "stream",
          "text": [
            "(1132, 8)\n"
          ],
          "name": "stdout"
        },
        {
          "output_type": "execute_result",
          "data": {
            "text/html": [
              "<div>\n",
              "<style scoped>\n",
              "    .dataframe tbody tr th:only-of-type {\n",
              "        vertical-align: middle;\n",
              "    }\n",
              "\n",
              "    .dataframe tbody tr th {\n",
              "        vertical-align: top;\n",
              "    }\n",
              "\n",
              "    .dataframe thead th {\n",
              "        text-align: right;\n",
              "    }\n",
              "</style>\n",
              "<table border=\"1\" class=\"dataframe\">\n",
              "  <thead>\n",
              "    <tr style=\"text-align: right;\">\n",
              "      <th></th>\n",
              "      <th>post</th>\n",
              "      <th>title</th>\n",
              "      <th>date_created</th>\n",
              "      <th>author</th>\n",
              "      <th>post_sentiment</th>\n",
              "      <th>title_sentiment</th>\n",
              "      <th>reddit_score</th>\n",
              "      <th>num_comments</th>\n",
              "    </tr>\n",
              "  </thead>\n",
              "  <tbody>\n",
              "    <tr>\n",
              "      <th>0</th>\n",
              "      <td>Previously, vim-clap's main feature is the ful...</td>\n",
              "      <td>vim-clap: to be a performant fuzzy finder and ...</td>\n",
              "      <td>01-01-2020</td>\n",
              "      <td>liuchengxu</td>\n",
              "      <td>Positive</td>\n",
              "      <td>Neutral</td>\n",
              "      <td>1</td>\n",
              "      <td>41</td>\n",
              "    </tr>\n",
              "    <tr>\n",
              "      <th>1</th>\n",
              "      <td>Hello all, recently I wrote a new vim plugin '...</td>\n",
              "      <td>New plugin: vim-text-lists</td>\n",
              "      <td>01-01-2020</td>\n",
              "      <td>arumoy_shome</td>\n",
              "      <td>Positive</td>\n",
              "      <td>Neutral</td>\n",
              "      <td>1</td>\n",
              "      <td>0</td>\n",
              "    </tr>\n",
              "    <tr>\n",
              "      <th>2</th>\n",
              "      <td></td>\n",
              "      <td>How many of yiuhrol keep accidentally doing th...</td>\n",
              "      <td>01-01-2020</td>\n",
              "      <td>nebulaeandstars</td>\n",
              "      <td>Neutral</td>\n",
              "      <td>Negative</td>\n",
              "      <td>1</td>\n",
              "      <td>0</td>\n",
              "    </tr>\n",
              "    <tr>\n",
              "      <th>3</th>\n",
              "      <td>The task i'm trying to accomplish is to remove...</td>\n",
              "      <td>What would be the best way to format this code...</td>\n",
              "      <td>01-01-2020</td>\n",
              "      <td>eliseu_videira</td>\n",
              "      <td>Positive</td>\n",
              "      <td>Positive</td>\n",
              "      <td>1</td>\n",
              "      <td>24</td>\n",
              "    </tr>\n",
              "    <tr>\n",
              "      <th>4</th>\n",
              "      <td>I've been using vim for a couple of years, and...</td>\n",
              "      <td>TIL - Run lines of code and get the output ins...</td>\n",
              "      <td>01-01-2020</td>\n",
              "      <td>Hollow_5oul</td>\n",
              "      <td>Positive</td>\n",
              "      <td>Neutral</td>\n",
              "      <td>1</td>\n",
              "      <td>25</td>\n",
              "    </tr>\n",
              "  </tbody>\n",
              "</table>\n",
              "</div>"
            ],
            "text/plain": [
              "                                                post  ... num_comments\n",
              "0  Previously, vim-clap's main feature is the ful...  ...           41\n",
              "1  Hello all, recently I wrote a new vim plugin '...  ...            0\n",
              "2                                                     ...            0\n",
              "3  The task i'm trying to accomplish is to remove...  ...           24\n",
              "4  I've been using vim for a couple of years, and...  ...           25\n",
              "\n",
              "[5 rows x 8 columns]"
            ]
          },
          "metadata": {
            "tags": []
          },
          "execution_count": 132
        }
      ]
    },
    {
      "cell_type": "code",
      "metadata": {
        "id": "kcHV4W-YFW0B"
      },
      "source": [
        "#write the feature dataframe to a CSV file\n",
        "feature_df.to_csv('/drive/My Drive/Colab Notebooks/vim_feature.csv', mode='w', encoding='utf-8', index=False)"
      ],
      "execution_count": null,
      "outputs": []
    }
  ]
}